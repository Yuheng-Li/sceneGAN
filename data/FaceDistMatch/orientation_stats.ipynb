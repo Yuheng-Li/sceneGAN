{
 "cells": [
  {
   "cell_type": "code",
   "execution_count": 1,
   "metadata": {},
   "outputs": [],
   "source": [
    "import pickle \n",
    "import matplotlib.pyplot as plt \n",
    "import numpy as np\n",
    "import pickle "
   ]
  },
  {
   "cell_type": "code",
   "execution_count": 2,
   "metadata": {},
   "outputs": [
    {
     "data": {
      "text/plain": [
       "'\\n\\nPurpose of this script: We want to augment our training data for faces in Human dataset (from Adobe).\\nBut the faces in Human have much large variances in terms of orientation, and commonly used faces such as \\nfrom celeba and ffhq, they are mostly front facing. Thus in order to solve this domain gap, we fire a \\nHeadPoseEstimator (https://github.com/Yuheng-Li/HeadPoseEstimation) to get all faces orientations in three \\ndirections, yaw, pitch and roll (which are marginal dists along three directions) and then further divide into\\nmultiple ranges. For example, if you divide into 5 for each directions, then you approximate head orientation\\nusing 5*5*5=125 categories. \\n\\nGiven your target dist (which is from Human) and your current available data (say from Celeba), you want to \\nknow what should be a multiplier for each category such that multiplied data has the same dist as target dist.\\nFor example, say in your human dataset, there are many left facing images, thus you want to multiply a big number \\nto left facing category in celeba such that each categories have the same sampling probabilities.\\n\\nThis script will output multipliers \\n\\n'"
      ]
     },
     "execution_count": 2,
     "metadata": {},
     "output_type": "execute_result"
    }
   ],
   "source": [
    "\"\"\"\n",
    "\n",
    "Purpose of this script: We want to augment our training data for faces in Human dataset (from Adobe).\n",
    "But the faces in Human have much large variances in terms of orientation, and commonly used faces such as \n",
    "from celeba and ffhq, they are mostly front facing. Thus in order to solve this domain gap, we fire a \n",
    "HeadPoseEstimator (https://github.com/Yuheng-Li/HeadPoseEstimation) to get all faces orientations in three \n",
    "directions, yaw, pitch and roll (which are marginal dists along three directions) and then further divide into\n",
    "multiple ranges. For example, if you divide into 5 for each directions, then you approximate head orientation\n",
    "using 5*5*5=125 categories. \n",
    "\n",
    "Given your target dist (which is from Human) and your current available data (say from Celeba), you want to \n",
    "know what should be a multiplier for each category such that multiplied data has the same dist as target dist.\n",
    "For example, say in your human dataset, there are many left facing images, thus you want to multiply a big number \n",
    "to left facing category in celeba such that each categories have the same sampling probabilities.\n",
    "\n",
    "This script will output multipliers \n",
    "\n",
    "\"\"\""
   ]
  },
  {
   "cell_type": "code",
   "execution_count": 3,
   "metadata": {},
   "outputs": [],
   "source": [
    "# Note that opened pkl fils are from: https://github.com/Yuheng-Li/HeadPoseEstimation"
   ]
  },
  {
   "cell_type": "code",
   "execution_count": 4,
   "metadata": {},
   "outputs": [],
   "source": [
    "with open('celeba_result.pkl', 'rb') as fp:\n",
    "    result = pickle.load(fp)\n",
    "name_celeba = result['file_name']\n",
    "yaw_celeba = result['yaw']\n",
    "pitch_celeba = result['pitch']\n",
    "roll_celeba = result['roll']"
   ]
  },
  {
   "cell_type": "code",
   "execution_count": 5,
   "metadata": {},
   "outputs": [],
   "source": [
    "# zipped = zip(roll, yaw, pitch, file_name)\n",
    "# roll, yaw, pitch, file_name = zip(*sorted(zipped))"
   ]
  },
  {
   "cell_type": "code",
   "execution_count": 6,
   "metadata": {},
   "outputs": [
    {
     "data": {
      "text/plain": [
       "(2.012744594065348, 15.598688507086498)"
      ]
     },
     "execution_count": 6,
     "metadata": {},
     "output_type": "execute_result"
    },
    {
     "data": {
      "image/png": "[encoded data removed]",
      "text/plain": [
       "<Figure size 432x288 with 1 Axes>"
      ]
     },
     "metadata": {
      "needs_background": "light"
     },
     "output_type": "display_data"
    }
   ],
   "source": [
    "plt.hist(yaw_celeba, bins=100)\n",
    "plt.gca().set(title='yaw', ylabel='Frequency')\n",
    "\n",
    "np.mean(yaw_celeba), np.std( yaw_celeba  )"
   ]
  },
  {
   "cell_type": "code",
   "execution_count": 7,
   "metadata": {},
   "outputs": [
    {
     "data": {
      "text/plain": [
       "(-0.13661260096232097, 2.5737075122011865)"
      ]
     },
     "execution_count": 7,
     "metadata": {},
     "output_type": "execute_result"
    },
    {
     "data": {
      "image/png": "[encoded data removed]",
      "text/plain": [
       "<Figure size 432x288 with 1 Axes>"
      ]
     },
     "metadata": {
      "needs_background": "light"
     },
     "output_type": "display_data"
    }
   ],
   "source": [
    "plt.hist(roll_celeba, bins=100)\n",
    "plt.gca().set(title='roll', ylabel='Frequency');\n",
    "\n",
    "np.mean(roll_celeba), np.std( roll_celeba  )"
   ]
  },
  {
   "cell_type": "code",
   "execution_count": 8,
   "metadata": {},
   "outputs": [
    {
     "data": {
      "text/plain": [
       "(-7.136896704483032, 8.107060884322637)"
      ]
     },
     "execution_count": 8,
     "metadata": {},
     "output_type": "execute_result"
    },
    {
     "data": {
      "image/png": "[encoded data removed]",
      "text/plain": [
       "<Figure size 432x288 with 1 Axes>"
      ]
     },
     "metadata": {
      "needs_background": "light"
     },
     "output_type": "display_data"
    }
   ],
   "source": [
    "plt.hist(pitch_celeba, bins=100)\n",
    "plt.gca().set(title='pitch', ylabel='Frequency')\n",
    "\n",
    "np.mean(pitch_celeba), np.std( pitch_celeba  )"
   ]
  },
  {
   "cell_type": "code",
   "execution_count": null,
   "metadata": {},
   "outputs": [],
   "source": []
  },
  {
   "cell_type": "code",
   "execution_count": null,
   "metadata": {},
   "outputs": [],
   "source": []
  },
  {
   "cell_type": "code",
   "execution_count": 10,
   "metadata": {},
   "outputs": [],
   "source": [
    "with open('human_result.pkl', 'rb') as fp:\n",
    "    result = pickle.load(fp)\n",
    "name_human = result['file_name']\n",
    "yaw_human = result['yaw']\n",
    "pitch_human = result['pitch']\n",
    "roll_human = result['roll']"
   ]
  },
  {
   "cell_type": "code",
   "execution_count": 11,
   "metadata": {},
   "outputs": [
    {
     "data": {
      "text/plain": [
       "(3.062658054455531, 22.199318610596787)"
      ]
     },
     "execution_count": 11,
     "metadata": {},
     "output_type": "execute_result"
    },
    {
     "data": {
      "image/png": "[encoded data removed]",
      "text/plain": [
       "<Figure size 432x288 with 1 Axes>"
      ]
     },
     "metadata": {
      "needs_background": "light"
     },
     "output_type": "display_data"
    }
   ],
   "source": [
    "plt.hist(yaw_human, bins=100)\n",
    "plt.gca().set(title='yaw', ylabel='Frequency')\n",
    "\n",
    "np.mean(yaw_human), np.std( yaw_human  )"
   ]
  },
  {
   "cell_type": "code",
   "execution_count": 12,
   "metadata": {},
   "outputs": [
    {
     "data": {
      "text/plain": [
       "(-1.039953303891194, 12.653393794369336)"
      ]
     },
     "execution_count": 12,
     "metadata": {},
     "output_type": "execute_result"
    },
    {
     "data": {
      "image/png": "[encoded data removed]",
      "text/plain": [
       "<Figure size 432x288 with 1 Axes>"
      ]
     },
     "metadata": {
      "needs_background": "light"
     },
     "output_type": "display_data"
    }
   ],
   "source": [
    "plt.hist(roll_human, bins=100)\n",
    "plt.gca().set(title='roll', ylabel='Frequency')\n",
    "\n",
    "np.mean(roll_human), np.std( roll_human  )"
   ]
  },
  {
   "cell_type": "code",
   "execution_count": 13,
   "metadata": {},
   "outputs": [
    {
     "data": {
      "text/plain": [
       "(-4.811083472734913, 11.619886388696655)"
      ]
     },
     "execution_count": 13,
     "metadata": {},
     "output_type": "execute_result"
    },
    {
     "data": {
      "image/png": "[encoded data removed]",
      "text/plain": [
       "<Figure size 432x288 with 1 Axes>"
      ]
     },
     "metadata": {
      "needs_background": "light"
     },
     "output_type": "display_data"
    }
   ],
   "source": [
    "plt.hist(pitch_human, bins=100)\n",
    "plt.gca().set(title='pitch', ylabel='Frequency')\n",
    "\n",
    "np.mean(pitch_human), np.std( pitch_human  )"
   ]
  },
  {
   "cell_type": "code",
   "execution_count": null,
   "metadata": {},
   "outputs": [],
   "source": []
  },
  {
   "cell_type": "code",
   "execution_count": null,
   "metadata": {},
   "outputs": [],
   "source": [
    "# # # # # # # # # # Now Let's get dist for each dataset # # # # # # # # # #"
   ]
  },
  {
   "cell_type": "code",
   "execution_count": 14,
   "metadata": {},
   "outputs": [],
   "source": [
    "def which_split(x, split):\n",
    "    for i, small_range in enumerate(split):\n",
    "        if   small_range[0] <= x <= small_range[1]:\n",
    "            return i "
   ]
  },
  {
   "cell_type": "code",
   "execution_count": 15,
   "metadata": {},
   "outputs": [],
   "source": [
    "def draw_bar(dist):\n",
    "    fig = plt.figure()\n",
    "    ax = fig.add_axes([0,0,1,1])\n",
    "    xxx = range(len(dist))\n",
    "    yyy = dist\n",
    "    ax.bar(xxx, yyy)\n",
    "    plt.show()"
   ]
  },
  {
   "cell_type": "code",
   "execution_count": 16,
   "metadata": {},
   "outputs": [],
   "source": [
    "def get_distribution( yaw_split, roll_split, pitch_split, yaws, rolls, pitchs, names ):\n",
    "    \n",
    "    combination = len(yaw_split)*len(roll_split)*len(pitch_split)\n",
    "    dist = np.zeros(combination)\n",
    "    \n",
    "    combination_types = {}  # key is index, value is split combination  \n",
    "    combination_names = {}  # key is index, value is image file names  \n",
    "    location = {}\n",
    "    count = 0     \n",
    "    for i, yaw_range in enumerate(yaw_split):\n",
    "        for j, roll_range in enumerate(roll_split):\n",
    "            for k, pitch_range in enumerate(pitch_split):\n",
    "                combination_types[count] = {'yaw_range':yaw_range, 'roll_range':roll_range, 'pitch_range':pitch_range}\n",
    "                combination_names[count] = [] \n",
    "                location[ (i,j,k) ] = count\n",
    "                count+=1 \n",
    "                \n",
    "                                                \n",
    "    for yaw, roll, pitch, name in zip(yaws, rolls, pitchs, names):  \n",
    "        \n",
    "        which_yaw = which_split(yaw, yaw_split)\n",
    "        which_roll = which_split(roll, roll_split)\n",
    "        which_pitch = which_split(pitch, pitch_split)\n",
    "        idx = location[ (which_yaw,which_roll,which_pitch) ]\n",
    "        \n",
    "        dist[idx] += 1\n",
    "        combination_names[idx].append( name )\n",
    "        \n",
    "    return dist, dist/len(yaws), combination_types, combination_names"
   ]
  },
  {
   "cell_type": "code",
   "execution_count": 17,
   "metadata": {},
   "outputs": [],
   "source": [
    "# split according to mean and std from celeba  \n",
    "# (-90,mu-2sigma), (mu-2sigma, mu-sigma), (mu-sigma,mu+sigma), (mu+sigma,mu+2sigma), (mu+sigma,90)\n",
    "\n",
    "# You can also split according to Human dist, but we already know that human dataset has larger variance\n",
    "# so even one range may include almost all data from Celeba, for example if you use mu and sigma from human then \n",
    "# almost all data from celeba will fall into (mu-sigma, mu+sigma). However if you use mu and sigma from celeba, \n",
    "# it can reflect the 'noisiness' of Human dataset as we use smaller variance from celeba. \n",
    "\n",
    "\n",
    "yaw_split = [ [-90,-28],\n",
    "              [-28,-13],\n",
    "              [-13, 17],\n",
    "              [-17, 32],\n",
    "              [ 17, 90] ] \n",
    "\n",
    "roll_split = [[-90,  -5],\n",
    "              [ -5,  -2.5],\n",
    "              [-2.5,  2.5],\n",
    "              [ 2.5,  5],\n",
    "              [ 5,    90]] \n",
    "\n",
    "\n",
    "pitch_split = [[-90, -23],\n",
    "               [-23, -15],\n",
    "               [-15,   1],\n",
    "               [  1,  9 ], \n",
    "               [  9,  90]]"
   ]
  },
  {
   "cell_type": "code",
   "execution_count": 19,
   "metadata": {},
   "outputs": [
    {
     "data": {
      "image/png": "[encoded data removed]",
      "text/plain": [
       "<Figure size 432x288 with 1 Axes>"
      ]
     },
     "metadata": {
      "needs_background": "light"
     },
     "output_type": "display_data"
    }
   ],
   "source": [
    "count_celeba, dist_celeba, combination_type, combination_name = get_distribution( yaw_split, roll_split, pitch_split, yaw_celeba, roll_celeba, pitch_celeba, name_celeba )\n",
    "draw_bar(dist_celeba)"
   ]
  },
  {
   "cell_type": "code",
   "execution_count": 20,
   "metadata": {},
   "outputs": [
    {
     "data": {
      "image/png": "[encoded data removed]",
      "text/plain": [
       "<Figure size 432x288 with 1 Axes>"
      ]
     },
     "metadata": {
      "needs_background": "light"
     },
     "output_type": "display_data"
    }
   ],
   "source": [
    "# combination_type is same so do not need to output, we do not need to sample data from Human, thus combination_name is not needed \n",
    "count_human, dist_human, _, _ = get_distribution( yaw_split, roll_split, pitch_split, yaw_human, roll_human, pitch_human, name_human )\n",
    "draw_bar(dist_human)"
   ]
  },
  {
   "cell_type": "code",
   "execution_count": null,
   "metadata": {},
   "outputs": [],
   "source": [
    "# From above dist visulization, we can see that Human data as more 'noises' in the standard of celeba"
   ]
  },
  {
   "cell_type": "code",
   "execution_count": null,
   "metadata": {},
   "outputs": [],
   "source": []
  },
  {
   "cell_type": "code",
   "execution_count": null,
   "metadata": {},
   "outputs": [],
   "source": []
  },
  {
   "cell_type": "code",
   "execution_count": null,
   "metadata": {},
   "outputs": [],
   "source": [
    "# # # # # # # # # # # # # # Calculate multiplers # # # # # # # # # # # # # # "
   ]
  },
  {
   "cell_type": "code",
   "execution_count": 21,
   "metadata": {},
   "outputs": [],
   "source": [
    "def get_sample_stats( dist_human, count_image  ):\n",
    "    \n",
    "    \"\"\"\n",
    "    dist_human: from get_distribution(), it shows how does Human dist look like in the other dataset\n",
    "    count_image: from get_distribution(), this should be stats from dataset you want to sample, such as Celeba.\n",
    "    \n",
    "    It will first find the 'best cause category'. For example your count_image is [8000,4000,2000,50000]\n",
    "    and your asked dist is [0.3, 0.4, 0.1, 0.2]. Then you can see that the last one is the best case, as it\n",
    "    has enough data to do sampling (wo replacement) according to the dist above. \n",
    "   \n",
    "    Then it will calculate multiplier for each category. For example the firt_ratio / best_ratio = 0.3/0.2=1.5\n",
    "    which means you ask the first category should have had 1.5 times data than the last one, \n",
    "    thus it needs a multiplier: 1.5*50000 / 8000    \n",
    "    \"\"\"\n",
    "    \n",
    "    best_idx = 0\n",
    "    \n",
    "    for i in range(  len(dist_human)  ):\n",
    "        data_ratio = (count_image[i]+1) / (count_image[best_idx]+1)  # +1 for safe \n",
    "        dist_ratio = dist_human[i] / dist_human[best_idx]\n",
    "        \n",
    "        if data_ratio>dist_ratio:\n",
    "            best_idx = i\n",
    "            \n",
    "    print('best idx is', best_idx)\n",
    "            \n",
    "            \n",
    "    best_ratio = dist_human[best_idx]\n",
    "    best_count = count_image[best_idx]\n",
    "    \n",
    "  \n",
    "    multipliers = np.zeros( len(dist_human) )\n",
    "    for i in range(  len(dist_human)  ):\n",
    "        idea_data_count = dist_human[i] / best_ratio * best_count\n",
    "        if count_image[i] != 0:\n",
    "            multipliers[i] = idea_data_count / count_image[i]\n",
    "        \n",
    "    return multipliers"
   ]
  },
  {
   "cell_type": "code",
   "execution_count": 23,
   "metadata": {},
   "outputs": [
    {
     "name": "stdout",
     "output_type": "stream",
     "text": [
      "best idx is 81\n"
     ]
    }
   ],
   "source": [
    "categories_multiplier = get_sample_stats(dist_human, count_celeba)\n",
    "categories_multiplier = np.rint(categories_multiplier)"
   ]
  },
  {
   "cell_type": "code",
   "execution_count": 24,
   "metadata": {},
   "outputs": [],
   "source": [
    "# Let's broadcast multipliers into each images for each categoris (so it can be used in SceneGAN code)\n",
    "\n",
    "each_image_multipliers = { key: None for key in name_celeba} \n",
    "\n",
    "for category_idx in combination_name.keys():\n",
    "    \n",
    "    this_category_multipler = categories_multiplier[category_idx]\n",
    "    \n",
    "    # then find all images belonging to this category\n",
    "    images = combination_name[category_idx]\n",
    "    for image in images:\n",
    "        each_image_multipliers[image] = this_category_multipler\n",
    "        \n",
    "# only fetch values and save this list \n",
    "each_image_multipliers = list(each_image_multipliers.values())\n",
    "with open('celeba_multipliers.pkl', \"wb\") as fp:  \n",
    "    pickle.dump(each_image_multipliers, fp)"
   ]
  },
  {
   "cell_type": "code",
   "execution_count": 25,
   "metadata": {},
   "outputs": [
    {
     "data": {
      "image/png": "[encoded data removed]",
      "text/plain": [
       "<Figure size 432x288 with 1 Axes>"
      ]
     },
     "metadata": {
      "needs_background": "light"
     },
     "output_type": "display_data"
    }
   ],
   "source": [
    "# In order to verify, we duplicate each images accorinding to each_image_multipliers and see dist \n",
    "\n",
    "\n",
    "def duplicate( list1, list2  ):\n",
    "    out = []\n",
    "    for item, frenquency in zip(list1, list2):\n",
    "        out += [item]*int(frenquency)\n",
    "    return out\n",
    "\n",
    "\n",
    "name_celeba_modified = duplicate( name_celeba, each_image_multipliers )\n",
    "yaw_celeba_modified = duplicate( yaw_celeba, each_image_multipliers )\n",
    "pitch_celeba_modified = duplicate( pitch_celeba, each_image_multipliers )\n",
    "roll_celeba_modified = duplicate( roll_celeba, each_image_multipliers )\n",
    "\n",
    "\n",
    "# use the same split (from celeba) and see what does modified celeba looks like \n",
    "_, dist_celeba_modified, _, _ = get_distribution( yaw_split, roll_split, pitch_split, yaw_celeba_modified, roll_celeba_modified, pitch_celeba_modified, name_celeba_modified )\n",
    "draw_bar(dist_celeba_modified)\n"
   ]
  },
  {
   "cell_type": "code",
   "execution_count": null,
   "metadata": {},
   "outputs": [],
   "source": [
    "# Looks like same as Human dataset, then this modifed dist should be safe to use"
   ]
  },
  {
   "cell_type": "code",
   "execution_count": null,
   "metadata": {},
   "outputs": [],
   "source": []
  },
  {
   "cell_type": "code",
   "execution_count": null,
   "metadata": {},
   "outputs": [],
   "source": []
  },
  {
   "cell_type": "code",
   "execution_count": null,
   "metadata": {},
   "outputs": [],
   "source": []
  },
  {
   "cell_type": "code",
   "execution_count": null,
   "metadata": {},
   "outputs": [],
   "source": []
  },
  {
   "cell_type": "code",
   "execution_count": null,
   "metadata": {},
   "outputs": [],
   "source": [
    "# Do the same thing for FFHQ"
   ]
  },
  {
   "cell_type": "code",
   "execution_count": 26,
   "metadata": {},
   "outputs": [],
   "source": [
    "with open('ffhq_result.pkl', 'rb') as fp:\n",
    "    orientation_result = pickle.load(fp)\n",
    "name_ffhq = orientation_result['file_name']\n",
    "yaw_ffhq = orientation_result['yaw']\n",
    "pitch_ffhq = orientation_result['pitch']\n",
    "roll_ffhq = orientation_result['roll']"
   ]
  },
  {
   "cell_type": "code",
   "execution_count": 27,
   "metadata": {},
   "outputs": [
    {
     "data": {
      "text/plain": [
       "(2.012744594065348, 15.598688507086498)"
      ]
     },
     "execution_count": 27,
     "metadata": {},
     "output_type": "execute_result"
    },
    {
     "data": {
      "image/png": "[encoded data removed]",
      "text/plain": [
       "<Figure size 432x288 with 1 Axes>"
      ]
     },
     "metadata": {
      "needs_background": "light"
     },
     "output_type": "display_data"
    }
   ],
   "source": [
    "plt.hist(yaw_celeba, bins=100)\n",
    "plt.gca().set(title='yaw', ylabel='Frequency')\n",
    "\n",
    "np.mean(yaw_celeba), np.std( yaw_celeba  )"
   ]
  },
  {
   "cell_type": "code",
   "execution_count": 28,
   "metadata": {},
   "outputs": [
    {
     "data": {
      "text/plain": [
       "(-0.13661260096232097, 2.5737075122011865)"
      ]
     },
     "execution_count": 28,
     "metadata": {},
     "output_type": "execute_result"
    },
    {
     "data": {
      "image/png": "[encoded data removed]",
      "text/plain": [
       "<Figure size 432x288 with 1 Axes>"
      ]
     },
     "metadata": {
      "needs_background": "light"
     },
     "output_type": "display_data"
    }
   ],
   "source": [
    "plt.hist(roll_celeba, bins=100)\n",
    "plt.gca().set(title='roll', ylabel='Frequency');\n",
    "\n",
    "np.mean(roll_celeba), np.std( roll_celeba  )"
   ]
  },
  {
   "cell_type": "code",
   "execution_count": 29,
   "metadata": {},
   "outputs": [
    {
     "data": {
      "text/plain": [
       "(-7.136896704483032, 8.107060884322637)"
      ]
     },
     "execution_count": 29,
     "metadata": {},
     "output_type": "execute_result"
    },
    {
     "data": {
      "image/png": "[encoded data removed]",
      "text/plain": [
       "<Figure size 432x288 with 1 Axes>"
      ]
     },
     "metadata": {
      "needs_background": "light"
     },
     "output_type": "display_data"
    }
   ],
   "source": [
    "plt.hist(pitch_celeba, bins=100)\n",
    "plt.gca().set(title='pitch', ylabel='Frequency')\n",
    "\n",
    "np.mean(pitch_celeba), np.std( pitch_celeba  )"
   ]
  },
  {
   "cell_type": "code",
   "execution_count": null,
   "metadata": {},
   "outputs": [],
   "source": [
    "# You can see that FFHQ and CelebA shares the same marginal distribution (mu and sigma).\n",
    "# so we can use the same split "
   ]
  },
  {
   "cell_type": "code",
   "execution_count": 30,
   "metadata": {},
   "outputs": [
    {
     "data": {
      "image/png": "[encoded data removed]",
      "text/plain": [
       "<Figure size 432x288 with 1 Axes>"
      ]
     },
     "metadata": {
      "needs_background": "light"
     },
     "output_type": "display_data"
    }
   ],
   "source": [
    "count_ffhq, dist_ffhq, _, combination_name = get_distribution( yaw_split, roll_split, pitch_split, yaw_ffhq, roll_ffhq, pitch_ffhq, name_ffhq )\n",
    "draw_bar(dist_celeba)"
   ]
  },
  {
   "cell_type": "code",
   "execution_count": 31,
   "metadata": {},
   "outputs": [
    {
     "name": "stdout",
     "output_type": "stream",
     "text": [
      "best idx is 37\n"
     ]
    }
   ],
   "source": [
    "categories_multiplier = get_sample_stats(dist_human, count_ffhq)\n",
    "categories_multiplier = np.rint(categories_multiplier)"
   ]
  },
  {
   "cell_type": "code",
   "execution_count": 32,
   "metadata": {},
   "outputs": [],
   "source": [
    "# Let's broadcast multipliers into each images for each categoris (so it can be used in SceneGAN code)\n",
    "\n",
    "each_image_multipliers = { key: None for key in name_ffhq} \n",
    "\n",
    "for category_idx in combination_name.keys():\n",
    "    \n",
    "    this_category_multipler = categories_multiplier[category_idx]\n",
    "    \n",
    "    # then find all images belonging to this category\n",
    "    images = combination_name[category_idx]\n",
    "    for image in images:\n",
    "        each_image_multipliers[image] = this_category_multipler\n",
    "        \n",
    "# only fetch values and save this list \n",
    "each_image_multipliers = list(each_image_multipliers.values())\n",
    "with open('ffhq_multipliers.pkl', \"wb\") as fp:  \n",
    "    pickle.dump(each_image_multipliers, fp)"
   ]
  },
  {
   "cell_type": "code",
   "execution_count": null,
   "metadata": {},
   "outputs": [],
   "source": []
  }
 ],
 "metadata": {
  "kernelspec": {
   "display_name": "Python 3",
   "language": "python",
   "name": "python3"
  },
  "language_info": {
   "codemirror_mode": {
    "name": "ipython",
    "version": 3
   },
   "file_extension": ".py",
   "mimetype": "text/x-python",
   "name": "python",
   "nbconvert_exporter": "python",
   "pygments_lexer": "ipython3",
   "version": "3.8.3"
  }
 },
 "nbformat": 4,
 "nbformat_minor": 4
}
